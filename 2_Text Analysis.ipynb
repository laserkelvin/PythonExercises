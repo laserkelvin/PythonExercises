{
 "cells": [
  {
   "cell_type": "markdown",
   "metadata": {},
   "source": [
    "# Text Analysis\n",
    "\n",
    "## Introduction\n",
    "\n",
    "Every now and then you may want to analyze text that you have mined or even written yourself. For example, you may want to see (out of curiousity) what word occurs the most in a body of text.\n",
    "\n",
    "In this notebook, we are going to analyze a well-cited astrochemistry article, titled \"Rotational Excitation of CO by Collisions with He, H, and H$_2$ Under Conditions in Interstellar Clouds\" by Green and Thaddeus, published in _The Astrophysical Journal_ in 1976.\n",
    "\n",
    "Normally you would have to mine the text out of a PDF - I've already done this step for you (albeit poorly). The data is located in the `data` directory.\n",
    "\n",
    "To make sure the comparison is consistent throughout the analysis, we have to make sure we remove as much of the special characters and lower/upper casing as possible.\n",
    "\n",
    "## Aim\n",
    "\n",
    "The objective in this notebook is to open the text file in Python, parse out every word, and generate a histogram of word occurances. The scope will be to pick up all of the words __longer than 5 characters__, and count the number of times they appear.\n",
    "\n",
    "__Note that your partner will have to perform the same analysis on a different text! Make sure your code is clean and well documented!__\n",
    "\n",
    "These are the steps you need to take:\n",
    "\n",
    "1. Open the text file for reading\n",
    "2. Remove special characters from the text and remove case-sensitivity\n",
    "    - I recommend replacing special characters with spaces!\n",
    "3. Loop through the words, and incrementing each time you find the same word again.\n",
    "4. Histogram count the words\n",
    "    - This can be done with the `Counter` function from `collections`, or with `pandas DataFrame` built-in methods.\n",
    "5. Plot up the histogram with `matplotlib`\n",
    "\n",
    "This is the preamble you probably need:"
   ]
  },
  {
   "cell_type": "code",
   "execution_count": 2,
   "metadata": {},
   "outputs": [],
   "source": [
    "%matplotlib inline\n",
    "# This function will count the occurances in a list\n",
    "from collections import Counter\n",
    "\n",
    "# For your histogram needs\n",
    "import numpy as np\n",
    "\n",
    "# Optional, if you're courageous!\n",
    "import pandas as pd\n",
    "\n",
    "# For the plotting\n",
    "from matplotlib import pyplot as plt"
   ]
  },
  {
   "cell_type": "markdown",
   "metadata": {},
   "source": [
    "## Method\n",
    "\n",
    "1. Open a text file and read in its contents in a \"Pythonic\" way."
   ]
  },
  {
   "cell_type": "code",
   "execution_count": 3,
   "metadata": {},
   "outputs": [],
   "source": [
    "with open(\"data/GreenThaddeus-1976-ApJ.txt\") as read_file:\n",
    "    lines = read_file.read()"
   ]
  },
  {
   "cell_type": "markdown",
   "metadata": {},
   "source": [
    "2. Clean up the text so that it's more easily processed, i.e. removing newline characters and other special characters"
   ]
  },
  {
   "cell_type": "code",
   "execution_count": 4,
   "metadata": {},
   "outputs": [],
   "source": [
    "for character in [\"\\n\", \",\", \".\", \"\"\"(\"\"\", \"\"\")\"\"\", \"\"\":\"\"\", \"\"\"*\"\"\"]:\n",
    "    lines = lines.replace(character, \" \")"
   ]
  },
  {
   "cell_type": "markdown",
   "metadata": {},
   "source": [
    "3. I chose to store the data in a Python dictionary, where the key corresponds to the word, and the value is the count."
   ]
  },
  {
   "cell_type": "code",
   "execution_count": 5,
   "metadata": {},
   "outputs": [],
   "source": [
    "word_dict = dict()"
   ]
  },
  {
   "cell_type": "code",
   "execution_count": 6,
   "metadata": {},
   "outputs": [],
   "source": [
    "for word in lines.split(\" \"):\n",
    "    # If there are more than 5 characters, and is not a number then we count\n",
    "    if len(word) > 5 and word.isdigit() is False:\n",
    "        # If the word is not already in the dictionary, add it in\n",
    "        if word.lower() not in word_dict:\n",
    "            word_dict[word.lower()] = 1\n",
    "        # Otherwise just increment the counter\n",
    "        else:\n",
    "            word_dict[word.lower()]+=1"
   ]
  },
  {
   "cell_type": "markdown",
   "metadata": {},
   "source": [
    "4. The way I chose to analyze the data was to use `pandas`. You can easily convert the dictionary into a `pandas` `DataFrame`, which handles in a SQL-like fashion. I've oriented the `DataFrame` such that the words are in the index, and column 0 is the occurance."
   ]
  },
  {
   "cell_type": "code",
   "execution_count": 7,
   "metadata": {},
   "outputs": [],
   "source": [
    "df = pd.DataFrame.from_dict(word_dict, orient=\"index\")"
   ]
  },
  {
   "cell_type": "markdown",
   "metadata": {},
   "source": [
    "5. The values are sorted in descending order, and in place (so nothing is returned from the function call)"
   ]
  },
  {
   "cell_type": "code",
   "execution_count": 8,
   "metadata": {},
   "outputs": [],
   "source": [
    "df.sort_values([0], ascending=False, inplace=True)"
   ]
  },
  {
   "cell_type": "markdown",
   "metadata": {},
   "source": [
    "6. Since I didn't want to swamp the figure, I am plotting only the top 10 occurances of a word. The `iloc` method will let you slice/select indices of a dataframe. I code below simply chooses the first 10 values of a dataframe."
   ]
  },
  {
   "cell_type": "code",
   "execution_count": 9,
   "metadata": {},
   "outputs": [],
   "source": [
    "cut_df = df.iloc[:10]"
   ]
  },
  {
   "cell_type": "code",
   "execution_count": 13,
   "metadata": {},
   "outputs": [
    {
     "data": {
      "text/plain": [
       "Text(0.5,1,'Top 10 words in Green & Thaddeus, 1976')"
      ]
     },
     "execution_count": 13,
     "metadata": {},
     "output_type": "execute_result"
    },
    {
     "data": {
      "image/png": "[encoded data removed]",
      "text/plain": [
       "<Figure size 720x432 with 1 Axes>"
      ]
     },
     "metadata": {},
     "output_type": "display_data"
    }
   ],
   "source": [
    "plt.style.use(\"seaborn\")\n",
    "\n",
    "fig, ax = plt.subplots(figsize=(10,6))\n",
    "\n",
    "ax.bar(cut_df.index, cut_df[0])\n",
    "\n",
    "ax.set_title(\"Top 10 words in Green & Thaddeus, 1976\")"
   ]
  },
  {
   "cell_type": "code",
   "execution_count": 14,
   "metadata": {},
   "outputs": [],
   "source": [
    "fig.savefig(\"figures/Green1976-top10.png\", dpi=300)"
   ]
  },
  {
   "cell_type": "markdown",
   "metadata": {},
   "source": [
    "## Partner objective\n",
    "\n",
    "Send your partner your notebook and the other text file (data/Schlegel-arxiv.txt). Tell them to run your notebook, and then ask them to perform the same analysis with the __top 5 words with 4 or more characters!__"
   ]
  },
  {
   "cell_type": "code",
   "execution_count": null,
   "metadata": {},
   "outputs": [],
   "source": []
  }
 ],
 "metadata": {
  "kernelspec": {
   "display_name": "Python 3",
   "language": "python",
   "name": "python3"
  }
 },
 "nbformat": 4,
 "nbformat_minor": 2
}
