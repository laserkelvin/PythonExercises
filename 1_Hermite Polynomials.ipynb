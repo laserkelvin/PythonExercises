{
 "cells": [
  {
   "cell_type": "markdown",
   "metadata": {},
   "source": [
    "# Hermite Polynomials\n",
    "\n",
    "## Introduction\n",
    "\n",
    "This notebook shows off a special class of polynomials named after Charles Hermite. Historically, the polynomials were first discovered Pierre-Simon Laplace, later by Pafnuty Chebyshev, and subsequently overlooked by Hermite.\n",
    "\n",
    "These polynomials are extremely useful in probability, numerical analysis, and physics. In physics, the Hermite polynomials serve as a basis for solving the quantum mechanical harmonic oscillator. The polynomial series goes something like this:\n",
    "\n",
    "$$ p(x) = c_0 * H_0(x) + c_1 * H_1(x) + ... + c_n * H_n(x) $$\n",
    "\n",
    "where $p(x)$ is the value at a given $x$, with coefficients $c_0$ and the Hermite series given by $H_n(x)$. Expansions of these can be worked out analytically, but the first few are shown here:\n",
    "\n",
    "$$ H_0(x) = 1 $$\n",
    "\n",
    "$$ H_1(x) = 2x $$\n",
    "\n",
    "$$ H_2(x) = 4x^2 - 2$$\n",
    "\n",
    "And so on.\n",
    "\n",
    "As you can see, these polynomials would be an absolute pain to deal with by hand. Luckily, `numpy` has built in functions that implement the Hermite polynomials.\n",
    "\n",
    "As described before, the Hermite polynomials serve as basis functions for the quantum harmonic oscillator. If you recall quantum mechanics lectures, one of the conjectures of quantum mechanics is that everything that can be known about a system is given by its wavefunction $\\Psi$, and a Hamiltonian operator $\\hat{H}$, and soluble via the Schrödinger equation ($\\hat{H}\\Psi = E\\Psi$).\n",
    "\n",
    "The Hermite polynomials are effectively $\\Psi$ in our case, and with the correct operator, gives the energy levels of the quantum harmonic oscillator.\n",
    "\n",
    "The relationship between $\\Psi$ and the polynomials is given by:\n",
    "\n",
    "$$\\Psi_n(x) = N_nH_n(x)e^{-x^2/2}$$\n",
    "\n",
    "where $n$ is the vibrational quantum number ($n=0,1,2\\ldots, \\infty$) and $N_n$ is a normalization factor:\n",
    "\n",
    "$$ N_n = \\frac{1}{(2^n n! \\sqrt{\\pi})^{1/2}} $$\n",
    "\n",
    "---\n",
    "\n",
    "## Aim\n",
    "\n",
    "The point of this notebook is to plot out a few of the Hermite polynomials, which are visualizations of the harmonic oscillator wavefunctions! If you calculate $|\\Psi|^2$, we get the probability density (i.e. probability of a particle being in a position). \n",
    "\n",
    "The task will require you to:\n",
    "1. Set up a grid of $x$ points\n",
    "2. Evaluate the first three Hermite polynomials on this grid with `scipy`\n",
    "3. Plot them up using `matplotlib`\n",
    "\n",
    "__Keep in mind that your partner's task will be to change the polynomials to be evaluated and plotted. Keeping clean code and good documentation will help!__\n",
    "\n",
    "Here is the minimum preamble you'll need:"
   ]
  },
  {
   "cell_type": "code",
   "execution_count": 1,
   "metadata": {},
   "outputs": [],
   "source": [
    "%matplotlib inline\n",
    "import numpy as np\n",
    "\n",
    "# this helps because you don't have to keep writing the full function\n",
    "# call over and over again!\n",
    "from scipy.special import eval_hermite\n",
    "\n",
    "# for plotting\n",
    "from matplotlib import pyplot as plt"
   ]
  },
  {
   "cell_type": "markdown",
   "metadata": {},
   "source": [
    "## Method\n",
    "\n",
    "1. For the grid, I recommend a linearly spaced array between -5 and 5 with at least 100 points. `np.linspace` will work for this."
   ]
  },
  {
   "cell_type": "code",
   "execution_count": 2,
   "metadata": {},
   "outputs": [],
   "source": [
    "x = np.linspace(-5., 5, 200)"
   ]
  },
  {
   "cell_type": "markdown",
   "metadata": {},
   "source": [
    "2. The Hermite polynomials are the most daunting, but the easiest. To evaluate $H_n(x)$, `scipy` has the following function call:\n",
    "\n",
    "`scipy.special.eval_hermite(n, x)`\n",
    "\n",
    "where `n` is the same (vibrational quantum number), and x is your grid. Try it out first to make sure the function is working!\n",
    "\n",
    "The normalization step is the most tedious to code up. To calculate the factorial part, a neat trick is to set up a `numpy` array of integers with `np.arange`. A built-in method of `ndarray` is `prod()`, which will evaluate the product of your array, e.g.\n",
    "\n",
    "`np.arange(3).prod()` will yield $3!$."
   ]
  },
  {
   "cell_type": "code",
   "execution_count": 3,
   "metadata": {},
   "outputs": [],
   "source": [
    "def harmosc_wfn(x, n):\n",
    "    \"\"\" Function that will evaluate the harmonic oscillator wavefunction\n",
    "        for a given set of x values, and quantum number n.\n",
    "\n",
    "        Returns the wavefunction for state n, along grid x.\n",
    "    \"\"\"\n",
    "    coeff = np.arange(n)                 # this is to simplify the factorial later\n",
    "    herm = eval_hermite(n, x)            # call scipy function to evaluate Hermite order n on grid x\n",
    "    norm = 1. / (2.**coeff.prod() * np.sqrt(np.pi))**0.5     # normalization function\n",
    "    exponent = np.exp(-x**2. / 2.)                           # the exponential term\n",
    "    return norm * herm * exponent"
   ]
  },
  {
   "cell_type": "markdown",
   "metadata": {},
   "source": [
    "3. To plot the first three polynomials, you may want to implement a `for` loop, something to the effect of:\n",
    "\n",
    "`for n in range(3):`\n",
    "\n",
    "and you can feed `n` directly into your function calls and plot them up."
   ]
  },
  {
   "cell_type": "code",
   "execution_count": 4,
   "metadata": {},
   "outputs": [
    {
     "data": {
      "text/plain": [
       "<matplotlib.legend.Legend at 0x7f88fdfbf320>"
      ]
     },
     "execution_count": 4,
     "metadata": {},
     "output_type": "execute_result"
    },
    {
     "data": {
      "image/png": "[encoded data removed]",
      "text/plain": [
       "<Figure size 432x432 with 1 Axes>"
      ]
     },
     "metadata": {},
     "output_type": "display_data"
    }
   ],
   "source": [
    "plt.style.use(\"seaborn\")\n",
    "\n",
    "# vibrational quantum number\n",
    "n = 0\n",
    "\n",
    "# set up figure and axis\n",
    "fig, ax = plt.subplots(figsize=(6,6))\n",
    "\n",
    "# Plot the wavefunction and probability density\n",
    "ax.plot(x, harmosc_wfn(x, n), label=\"$\\\\Psi$\")\n",
    "ax.plot(x, harmosc_wfn(x, n)**2., label=\"$\\\\Psi^2$\")\n",
    "\n",
    "ax.legend()"
   ]
  },
  {
   "cell_type": "code",
   "execution_count": 5,
   "metadata": {},
   "outputs": [],
   "source": [
    "# Save the figure based on the quantum number you used\n",
    "fig.savefig(\"./figures/harmonic-oscillator-\" + str(n) + \".png\", dpi=300)"
   ]
  },
  {
   "cell_type": "markdown",
   "metadata": {},
   "source": [
    "## Partner objective\n",
    "\n",
    "Send your partner the notebook. They should run it to make sure it works, and then ask them to __plot up the next three ([3, 4, 5]) quantum numbers.__"
   ]
  }
 ],
 "metadata": {
  "kernelspec": {
   "display_name": "Python 3",
   "language": "python",
   "name": "python3"
  },
  "language_info": {
   "codemirror_mode": {
    "name": "ipython",
    "version": 3
   },
   "file_extension": ".py",
   "mimetype": "text/x-python",
   "name": "python",
   "nbconvert_exporter": "python",
   "pygments_lexer": "ipython3",
   "version": "3.6.2"
  }
 },
 "nbformat": 4,
 "nbformat_minor": 2
}
